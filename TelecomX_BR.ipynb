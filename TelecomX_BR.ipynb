{
  "cells": [
    {
      "cell_type": "markdown",
      "metadata": {
        "id": "view-in-github",
        "colab_type": "text"
      },
      "source": [
        "<a href=\"https://colab.research.google.com/github/lippebarroso/challengetelecomfinal/blob/main/TelecomX_BR.ipynb\" target=\"_parent\"><img src=\"https://colab.research.google.com/assets/colab-badge.svg\" alt=\"Open In Colab\"/></a>"
      ]
    },
    {
      "cell_type": "markdown",
      "metadata": {
        "id": "4foVEKhrlqcH"
      },
      "source": [
        "#📌 Extracão"
      ]
    },
    {
      "cell_type": "code",
      "source": [
        "import json\n",
        "import pandas as pd"
      ],
      "metadata": {
        "id": "GyfwEKlA5LaC"
      },
      "execution_count": 20,
      "outputs": []
    },
    {
      "cell_type": "code",
      "execution_count": 22,
      "metadata": {
        "id": "1--uPM88l7JH"
      },
      "outputs": [],
      "source": [
        "with open('/TelecomX_Data (1).json', 'r') as file:\n",
        "    data = json.load(file)"
      ]
    },
    {
      "cell_type": "code",
      "source": [],
      "metadata": {
        "id": "jQFV23WMMa-z"
      },
      "execution_count": 22,
      "outputs": []
    },
    {
      "cell_type": "code",
      "source": [],
      "metadata": {
        "id": "8183CfrUUn2Z"
      },
      "execution_count": null,
      "outputs": []
    },
    {
      "cell_type": "markdown",
      "metadata": {
        "id": "1lSZP8zmmGZu"
      },
      "source": [
        "#🔧 Transformação"
      ]
    },
    {
      "cell_type": "code",
      "source": [
        "df = pd.json_normalize(data)"
      ],
      "metadata": {
        "id": "98hovUD3P4BY"
      },
      "execution_count": 32,
      "outputs": []
    },
    {
      "cell_type": "code",
      "execution_count": 35,
      "metadata": {
        "id": "bsm-WTLjmHvt",
        "colab": {
          "base_uri": "https://localhost:8080/"
        },
        "outputId": "6e425124-02cc-4d1e-c36a-b4fcff3750bc"
      },
      "outputs": [
        {
          "output_type": "stream",
          "name": "stdout",
          "text": [
            "customerID                   0\n",
            "Churn                        0\n",
            "customer.gender              0\n",
            "customer.SeniorCitizen       0\n",
            "customer.Partner             0\n",
            "customer.Dependents          0\n",
            "customer.tenure              0\n",
            "phone.PhoneService           0\n",
            "phone.MultipleLines          0\n",
            "internet.InternetService     0\n",
            "internet.OnlineSecurity      0\n",
            "internet.OnlineBackup        0\n",
            "internet.DeviceProtection    0\n",
            "internet.TechSupport         0\n",
            "internet.StreamingTV         0\n",
            "internet.StreamingMovies     0\n",
            "account.Contract             0\n",
            "account.PaperlessBilling     0\n",
            "account.PaymentMethod        0\n",
            "account.Charges.Monthly      0\n",
            "account.Charges.Total        0\n",
            "dtype: int64\n"
          ]
        }
      ],
      "source": [
        "print(df.isnull().sum())"
      ]
    },
    {
      "cell_type": "code",
      "source": [
        "print(\"Duplicados:\", df.duplicated().sum())"
      ],
      "metadata": {
        "id": "JZXHKSecM0P6",
        "colab": {
          "base_uri": "https://localhost:8080/"
        },
        "outputId": "db83872a-0291-47a1-85c5-0fae758abb3e"
      },
      "execution_count": 36,
      "outputs": [
        {
          "output_type": "stream",
          "name": "stdout",
          "text": [
            "Duplicados: 0\n"
          ]
        }
      ]
    },
    {
      "cell_type": "code",
      "source": [
        "for col in df.select_dtypes(include='object').columns:\n",
        "    print(f\"{col}: {df[col].unique()}\")"
      ],
      "metadata": {
        "id": "xTEDm-IRZhkF",
        "colab": {
          "base_uri": "https://localhost:8080/"
        },
        "outputId": "ef32502e-cf34-4407-c930-75f72c0a93c3"
      },
      "execution_count": 37,
      "outputs": [
        {
          "output_type": "stream",
          "name": "stdout",
          "text": [
            "customerID: ['0002-ORFBO' '0003-MKNFE' '0004-TLHLJ' ... '9992-UJOEL' '9993-LHIEB'\n",
            " '9995-HOTOH']\n",
            "Churn: ['No' 'Yes' '']\n",
            "customer.gender: ['Female' 'Male']\n",
            "customer.Partner: ['Yes' 'No']\n",
            "customer.Dependents: ['Yes' 'No']\n",
            "phone.PhoneService: ['Yes' 'No']\n",
            "phone.MultipleLines: ['No' 'Yes' 'No phone service']\n",
            "internet.InternetService: ['DSL' 'Fiber optic' 'No']\n",
            "internet.OnlineSecurity: ['No' 'Yes' 'No internet service']\n",
            "internet.OnlineBackup: ['Yes' 'No' 'No internet service']\n",
            "internet.DeviceProtection: ['No' 'Yes' 'No internet service']\n",
            "internet.TechSupport: ['Yes' 'No' 'No internet service']\n",
            "internet.StreamingTV: ['Yes' 'No' 'No internet service']\n",
            "internet.StreamingMovies: ['No' 'Yes' 'No internet service']\n",
            "account.Contract: ['One year' 'Month-to-month' 'Two year']\n",
            "account.PaperlessBilling: ['Yes' 'No']\n",
            "account.PaymentMethod: ['Mailed check' 'Electronic check' 'Credit card (automatic)'\n",
            " 'Bank transfer (automatic)']\n",
            "account.Charges.Total: ['593.3' '542.4' '280.85' ... '742.9' '4627.65' '3707.6']\n"
          ]
        }
      ]
    },
    {
      "cell_type": "code",
      "source": [
        "df = df[df['Churn'].isin(['Yes', 'No'])]"
      ],
      "metadata": {
        "id": "uyLgwS8WDav4"
      },
      "execution_count": 38,
      "outputs": []
    },
    {
      "cell_type": "code",
      "source": [
        "df['account.Charges.Total'] = pd.to_numeric(df['account.Charges.Total'], errors='coerce')"
      ],
      "metadata": {
        "id": "2CxjRkDYDalg"
      },
      "execution_count": 43,
      "outputs": []
    },
    {
      "cell_type": "code",
      "source": [
        "df['account.Charges.Total'] = df['account.Charges.Total'].fillna(df['account.Charges.Total'].median())"
      ],
      "metadata": {
        "id": "xzy5cRkyE9tb"
      },
      "execution_count": 44,
      "outputs": []
    },
    {
      "cell_type": "code",
      "source": [
        "df['Contas_Diarias'] = df['account.Charges.Monthly'] / 30"
      ],
      "metadata": {
        "id": "k6N-0f5vIL0Y"
      },
      "execution_count": 45,
      "outputs": []
    },
    {
      "cell_type": "code",
      "source": [
        "df.rename(columns={\n",
        "    'Churn': 'Evasao',\n",
        "    'customer.gender': 'Genero',\n",
        "    'customer.SeniorCitizen': 'Idoso',\n",
        "    'customer.Partner': 'Tem_Parceiro',\n",
        "    'customer.Dependents': 'Tem_Dependentes',\n",
        "    'customer.tenure': 'Meses_Cliente',\n",
        "    'account.Contract': 'Tipo_Contrato',\n",
        "    'account.PaymentMethod': 'Metodo_Pagamento',\n",
        "    'account.Charges.Monthly': 'Fatura_Mensal',\n",
        "    'account.Charges.Total': 'Fatura_Total'\n",
        "}, inplace=True)"
      ],
      "metadata": {
        "id": "uL3udMZLIN3v"
      },
      "execution_count": 46,
      "outputs": []
    },
    {
      "cell_type": "code",
      "source": [
        "df = df.replace({'Yes': 1, 'No': 0})"
      ],
      "metadata": {
        "id": "rEMTtu1jIPZw"
      },
      "execution_count": 51,
      "outputs": []
    },
    {
      "cell_type": "code",
      "source": [],
      "metadata": {
        "id": "WLzUtq0EIhYf"
      },
      "execution_count": 53,
      "outputs": []
    },
    {
      "cell_type": "markdown",
      "metadata": {
        "id": "6XnTC2NTmMRL"
      },
      "source": [
        "#📊 Carga e análise"
      ]
    },
    {
      "cell_type": "code",
      "execution_count": 54,
      "metadata": {
        "id": "1jgUnLqTmPdd"
      },
      "outputs": [],
      "source": []
    },
    {
      "cell_type": "markdown",
      "metadata": {
        "id": "v-WzfSvTmaw9"
      },
      "source": [
        "#📄Relatorio Final"
      ]
    },
    {
      "cell_type": "code",
      "execution_count": null,
      "metadata": {
        "id": "XMTac0YJmeK9"
      },
      "outputs": [],
      "source": []
    }
  ],
  "metadata": {
    "colab": {
      "provenance": [],
      "include_colab_link": true
    },
    "kernelspec": {
      "display_name": "Python 3",
      "name": "python3"
    },
    "language_info": {
      "name": "python"
    }
  },
  "nbformat": 4,
  "nbformat_minor": 0
}